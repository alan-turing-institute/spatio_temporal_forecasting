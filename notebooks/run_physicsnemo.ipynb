{
 "cells": [
  {
   "cell_type": "markdown",
   "id": "acdfceff",
   "metadata": {},
   "source": [
    "# PhysicsNEMO FNO Training with Hydra Configuration\n",
    "\n",
    "This notebook demonstrates training an autoregressive FNO model using PhysicsNEMO with configuration management via Hydra."
   ]
  },
  {
   "cell_type": "code",
   "execution_count": null,
   "id": "e7957abc",
   "metadata": {},
   "outputs": [],
   "source": [
    "\"\"\"https://docs.nvidia.com/physicsnemo/latest/user-guide/simple_training_example.html.\"\"\"\n",
    "\n",
    "from pathlib import Path\n",
    "import physicsnemo\n",
    "import torch\n",
    "from physicsnemo.metrics.general.mse import mse\n",
    "import logging\n",
    "from the_well.data.datamodule import WellDataModule\n",
    "from the_well.data.datasets import WellDataset\n",
    "from the_well.benchmark.metrics import VRMSE, RMSE\n",
    "from einops import rearrange\n",
    "from hydra import compose, initialize\n",
    "from omegaconf import OmegaConf\n",
    "\n",
    "root_path = Path(\"../../autoemulate/autoemulate/experimental/\")"
   ]
  },
  {
   "cell_type": "code",
   "execution_count": null,
   "id": "ed85097b",
   "metadata": {},
   "outputs": [],
   "source": [
    "# Initialize Hydra and load configuration\n",
    "with initialize(version_base=None, config_path=\"configs\"):\n",
    "    cfg = compose(config_name=\"config\")\n",
    "\n",
    "print(\"Configuration loaded:\")\n",
    "print(OmegaConf.to_yaml(cfg))"
   ]
  },
  {
   "cell_type": "markdown",
   "id": "dea6c0a3",
   "metadata": {},
   "source": [
    "## Load Configuration with Hydra\n",
    "\n",
    "Load model and training configurations from YAML files using Hydra."
   ]
  },
  {
   "cell_type": "code",
   "execution_count": null,
   "id": "84da34f0",
   "metadata": {},
   "outputs": [],
   "source": [
    "# Make a datamodule using Hydra config\n",
    "logging.basicConfig(level=logging.INFO)\n",
    "\n",
    "ae_data_module = WellDataModule(\n",
    "    well_base_path=str(root_path / \"exploratory/data/the_well/datasets\"),\n",
    "    well_dataset_name=cfg.dataset.name,\n",
    "    n_steps_input=cfg.dataset.n_steps_input,\n",
    "    n_steps_output=cfg.dataset.n_steps_output,\n",
    "    batch_size=cfg.dataset.batch_size,\n",
    "    train_dataset=WellDataset,\n",
    ")\n",
    "\n",
    "output_path = cfg.output_path"
   ]
  },
  {
   "cell_type": "markdown",
   "id": "c74e243d",
   "metadata": {},
   "source": [
    "## Setup Data Module\n",
    "\n",
    "Create the data module using configuration parameters."
   ]
  },
  {
   "cell_type": "code",
   "execution_count": null,
   "id": "a363c96d",
   "metadata": {},
   "outputs": [],
   "source": [
    "import torch\n",
    "torch.cuda.is_available()\n"
   ]
  },
  {
   "cell_type": "code",
   "execution_count": null,
   "id": "337f4d09",
   "metadata": {},
   "outputs": [],
   "source": [
    "dataloader = ae_data_module.train_dataloader()\n",
    "dataloader_iter = iter(dataloader)\n",
    "batch = next(dataloader_iter)"
   ]
  },
  {
   "cell_type": "code",
   "execution_count": null,
   "id": "4ee885e7",
   "metadata": {},
   "outputs": [],
   "source": [
    "_, n_time_steps, height, width, n_channels = batch[\"input_fields\"].shape"
   ]
  },
  {
   "cell_type": "code",
   "execution_count": null,
   "id": "57e889c9",
   "metadata": {},
   "outputs": [],
   "source": [
    "from spatio_temporal_forecasting.AR_FNO import AutoregressiveFNO\n",
    "from spatio_temporal_forecasting.fno_emulator import MultivariableFNO\n",
    "\n",
    "# Build FNO model from Hydra config\n",
    "device = cfg.device\n",
    "fno_base = MultivariableFNO(\n",
    "    n_vars=cfg.model.n_vars,\n",
    "    n_modes=tuple(cfg.model.n_modes),\n",
    "    hidden_channels=cfg.model.hidden_channels,\n",
    "    n_layers=cfg.model.n_layers,\n",
    "    use_skip_connections=cfg.model.use_skip_connections\n",
    ")\n",
    "model = AutoregressiveFNO(\n",
    "    fno_model=fno_base, \n",
    "    t_in=cfg.model.t_in, \n",
    "    t_out=cfg.model.t_out\n",
    ").to(device)\n",
    "\n",
    "dataloader = ae_data_module.train_dataloader()"
   ]
  },
  {
   "cell_type": "code",
   "execution_count": null,
   "id": "79a3a7d1",
   "metadata": {},
   "outputs": [],
   "source": [
    "batch = next(iter(dataloader))\n",
    "\n",
    "x = batch[\"input_fields\"]\n",
    "x = x[..., :1] # only first channel\n",
    "x = rearrange(x, \"b t h w c -> b t c h w\")\n",
    "# model(x).shape\n",
    "# x.shape"
   ]
  },
  {
   "cell_type": "code",
   "execution_count": null,
   "id": "a71313ca",
   "metadata": {},
   "outputs": [],
   "source": [
    "from physicsnemo.launch.logging import LaunchLogger, PythonLogger\n",
    "\n",
    "optimizer = torch.optim.Adam(model.parameters(), lr=0.01)\n",
    "scheduler = torch.optim.lr_scheduler.LambdaLR(\n",
    "    optimizer, lr_lambda=lambda step: 0.85**step\n",
    ")\n",
    "\n",
    "# Initialize the logger\n",
    "logger = PythonLogger(\"main\")  # General python logger\n",
    "LaunchLogger.initialize()\n",
    "\n",
    "# Use logger methods to track various information during training\n",
    "logger.info(\"Starting Training!\")\n",
    "for epoch in range(2):\n",
    "    with LaunchLogger(\"train\", epoch=epoch) as launchlog:\n",
    "        for batch_idx, batch in enumerate(ae_data_module.train_dataloader()):\n",
    "            optimizer.zero_grad()\n",
    "            y_true = batch[\"output_fields\"].to(device)\n",
    "            y_true = y_true[..., :1] # only first channel\n",
    "            x = batch[\"input_fields\"].to(device)\n",
    "            x = x[..., :1] # only first channel\n",
    "            x = rearrange(x, \"b t h w c -> b t c h w\")\n",
    "            y_pred = model(x)\n",
    "            y_pred = rearrange(y_pred, \"b t c h w -> b t h w c\")\n",
    "            loss = mse(y_pred, y_true)\n",
    "            loss.backward()\n",
    "            optimizer.step()\n",
    "            scheduler.step()\n",
    "\n",
    "            launchlog.log_minibatch({\"Loss\": loss.detach().cpu().numpy()})\n",
    "\n",
    "        launchlog.log_epoch({\"Learning Rate\": optimizer.param_groups[0][\"lr\"]})\n",
    "logger.info(\"Finished Training!\")"
   ]
  },
  {
   "cell_type": "code",
   "execution_count": null,
   "id": "54d6f2c5",
   "metadata": {},
   "outputs": [],
   "source": [
    "import torch\n",
    "\n",
    "torch.__version__"
   ]
  }
 ],
 "metadata": {
  "kernelspec": {
   "display_name": ".venv",
   "language": "python",
   "name": "python3"
  },
  "language_info": {
   "codemirror_mode": {
    "name": "ipython",
    "version": 3
   },
   "file_extension": ".py",
   "mimetype": "text/x-python",
   "name": "python",
   "nbconvert_exporter": "python",
   "pygments_lexer": "ipython3",
   "version": "3.12.12"
  }
 },
 "nbformat": 4,
 "nbformat_minor": 5
}
